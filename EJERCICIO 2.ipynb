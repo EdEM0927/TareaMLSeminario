{
 "cells": [
  {
   "cell_type": "code",
   "execution_count": 83,
   "metadata": {},
   "outputs": [],
   "source": [
    "#bibliotecas necesarias para el funcionamiento\n",
    "import pandas                  as pd                     #manejo y manipulación de dataframes\n",
    "import scipy\n",
    "import numpy                   as np                     #soporte matricial y vectorial\n",
    "import matplotlib.pyplot       as plt                    #graficos\n",
    "import joblib\n",
    "from   sklearn.model_selection import GridSearchCV       #optimización de hiperparametros\n",
    "from   sklearn                 import metrics            #metricas de validación\n",
    "from   sklearn.model_selection import train_test_split   #segmentación de muestra\n",
    "from   sklearn.linear_model    import LogisticRegression #clasificador \n",
    "from   sklearn.impute          import SimpleImputer      \n",
    "from   sklearn.compose         import ColumnTransformer\n",
    "from   sklearn.pipeline        import Pipeline\n",
    "from   sklearn.preprocessing   import LabelEncoder\n",
    "from   sklearn.preprocessing   import OneHotEncoder,StandardScaler\n",
    "from   sklearn.preprocessing   import KBinsDiscretizer\n",
    "from   sklearn.metrics         import accuracy_score, precision_score, recall_score, f1_score\n",
    "import numpy as np\n",
    "from sklearn import svm\n",
    "from sklearn.datasets import make_blobs\n",
    "import matplotlib.pyplot as plt\n",
    "from sklearn import datasets\n",
    "from   sklearn.model_selection import train_test_split\n",
    "from sklearn import metrics\n",
    "\n",
    "\n",
    "\n",
    "import pandas as pd\n",
    "url = \"C:/Users/David Guzman/OneDrive/Documentos/7mo Semestre/Seminario Estadistica/covid.csv\"\n",
    "data = pd.read_csv(url,engine='python', index_col=0)\n",
    "data=data[0:7000]\n",
    "\n",
    "#columnas con las covariables que se van a seleccionar del modelo\n",
    "columnas=[\"SEXO\",\"OBESIDAD\",\"DIABETES\",\"EPOC\",\"ASMA\",\"CARDIOVASCULAR\",\"RENAL CRONICA\",\"INMUNOSUPRESION\",\"HIPERTENSION\",\"TIPO PACIENTE\",\"EDAD\"]"
   ]
  },
  {
   "cell_type": "code",
   "execution_count": 84,
   "metadata": {},
   "outputs": [],
   "source": [
    "#Nos quedamos unicamente con los positivos\n",
    "filelocal=\"C:/Users/David Guzman/OneDrive/Documentos/7mo Semestre/Seminario Estadistica/covid.csv\"\n",
    "def getData(file,columnas,filtro=\"positivo\"):\n",
    "    df=pd.read_csv(file,header=0,sep=\",\",encoding='utf-8',low_memory=False)\n",
    "    df=df.loc[1:7000,columnas]\n",
    "    print(\"casos totales\")\n",
    "    print(df.shape)\n",
    "    return df  "
   ]
  },
  {
   "cell_type": "code",
   "execution_count": 85,
   "metadata": {},
   "outputs": [],
   "source": [
    "#quitamos aquellos datos donde se ignora la condicion\n",
    "def limpiaData(data,feature,conditions):\n",
    "    df=data\n",
    "    for i in feature:\n",
    "        df = df.drop(df[(df[i] == conditions)].index)\n",
    "    print(\"datos finales \"+str(df.shape))    \n",
    "    return df"
   ]
  },
  {
   "cell_type": "code",
   "execution_count": 86,
   "metadata": {},
   "outputs": [
    {
     "name": "stdout",
     "output_type": "stream",
     "text": [
      "casos totales\n",
      "(7000, 11)\n"
     ]
    }
   ],
   "source": [
    "df=getData(filelocal,columnas) \n",
    "feat=['OBESIDAD','DIABETES','EPOC','ASMA',\"CARDIOVASCULAR\",'RENAL CRONICA',\"INMUNOSUPRESION\",\"HIPERTENSION\"]"
   ]
  },
  {
   "cell_type": "code",
   "execution_count": 87,
   "metadata": {},
   "outputs": [
    {
     "name": "stdout",
     "output_type": "stream",
     "text": [
      "datos finales (7000, 11)\n"
     ]
    }
   ],
   "source": [
    "df=limpiaData(df,feat,'SE IGNORA')\n",
    "df=df.query(\"EDAD<100\")\n",
    "df.to_csv(\"covidfilter.csv\")"
   ]
  },
  {
   "cell_type": "code",
   "execution_count": 88,
   "metadata": {},
   "outputs": [
    {
     "data": {
      "text/plain": [
       "AMBULATORIO      4620\n",
       "HOSPITALIZADO    2379\n",
       "Name: TIPO PACIENTE, dtype: int64"
      ]
     },
     "execution_count": 88,
     "metadata": {},
     "output_type": "execute_result"
    }
   ],
   "source": [
    "#proporción de pacientes ambulatorios y hospitalizados\n",
    "df[\"TIPO PACIENTE\"].value_counts()"
   ]
  },
  {
   "cell_type": "code",
   "execution_count": 89,
   "metadata": {},
   "outputs": [
    {
     "data": {
      "text/html": [
       "<div>\n",
       "<style scoped>\n",
       "    .dataframe tbody tr th:only-of-type {\n",
       "        vertical-align: middle;\n",
       "    }\n",
       "\n",
       "    .dataframe tbody tr th {\n",
       "        vertical-align: top;\n",
       "    }\n",
       "\n",
       "    .dataframe thead th {\n",
       "        text-align: right;\n",
       "    }\n",
       "</style>\n",
       "<table border=\"1\" class=\"dataframe\">\n",
       "  <thead>\n",
       "    <tr style=\"text-align: right;\">\n",
       "      <th></th>\n",
       "      <th>SEXO</th>\n",
       "      <th>OBESIDAD</th>\n",
       "      <th>DIABETES</th>\n",
       "      <th>EPOC</th>\n",
       "      <th>ASMA</th>\n",
       "      <th>CARDIOVASCULAR</th>\n",
       "      <th>RENAL CRONICA</th>\n",
       "      <th>INMUNOSUPRESION</th>\n",
       "      <th>HIPERTENSION</th>\n",
       "      <th>EDAD</th>\n",
       "    </tr>\n",
       "  </thead>\n",
       "  <tbody>\n",
       "    <tr>\n",
       "      <th>1</th>\n",
       "      <td>MUJER</td>\n",
       "      <td>NO</td>\n",
       "      <td>NO</td>\n",
       "      <td>NO</td>\n",
       "      <td>NO</td>\n",
       "      <td>NO</td>\n",
       "      <td>NO</td>\n",
       "      <td>NO</td>\n",
       "      <td>NO</td>\n",
       "      <td>37</td>\n",
       "    </tr>\n",
       "  </tbody>\n",
       "</table>\n",
       "</div>"
      ],
      "text/plain": [
       "    SEXO OBESIDAD DIABETES EPOC ASMA CARDIOVASCULAR RENAL CRONICA  \\\n",
       "1  MUJER       NO       NO   NO   NO             NO            NO   \n",
       "\n",
       "  INMUNOSUPRESION HIPERTENSION  EDAD  \n",
       "1              NO           NO    37  "
      ]
     },
     "execution_count": 89,
     "metadata": {},
     "output_type": "execute_result"
    }
   ],
   "source": [
    "y=LabelEncoder().fit_transform(df[\"TIPO PACIENTE\"])\n",
    "X=df.drop([\"TIPO PACIENTE\"],axis=1)\n",
    "X.head(1)"
   ]
  },
  {
   "cell_type": "code",
   "execution_count": 90,
   "metadata": {},
   "outputs": [],
   "source": [
    "#Modleo: Crea un pipeline para generar el modelo\n",
    "def modelo(X_train, y_train,numeric_features,categorical_features):\n",
    "    numeric_transformer = Pipeline(steps=[\n",
    "    ('imputer', KBinsDiscretizer(n_bins=5, encode='ordinal', strategy='quantile'))])\n",
    "    categorical_transformer = Pipeline(steps=[\n",
    "        #imputacion por el valor más frecuente\n",
    "    ('imputer', SimpleImputer(strategy='most_frequent', fill_value='missing')),\n",
    "    #onehot encoder para las varibales categoricas    \n",
    "    ('onehot', OneHotEncoder(handle_unknown='ignore'))])\n",
    "    preprocessor = ColumnTransformer(\n",
    "    transformers=[\n",
    "        ('num', numeric_transformer, numeric_features),\n",
    "        ('cat', categorical_transformer, categorical_features)])\n",
    "    #el pipeline con el procesamienot y el claificador\n",
    "    clf = Pipeline(steps=[('preprocessor', preprocessor),\n",
    "                      ('classifier', gridsearh())])\n",
    "    modelo=clf.fit(X_train, y_train)\n",
    "    return modelo"
   ]
  },
  {
   "cell_type": "code",
   "execution_count": 91,
   "metadata": {},
   "outputs": [],
   "source": [
    "#GRID SEARCH: Prueba con varios modelos usando holdout 70-30\n",
    "def gridsearh():\n",
    "    clf = LogisticRegression(fit_intercept=True,solver='lbfgs',tol=1e-5,max_iter=75,n_jobs=8)\n",
    "    grid_values = {'penalty': [ 'l2'],'C':np.logspace(-5, 5, 100)}\n",
    "    \"\"\"se evalúan todas las combinaciones posibles de valores de parámetros y \n",
    "    se conserva la mejor combinacion.\"\"\"   \n",
    "    grid_clf_acc = GridSearchCV(clf, param_grid = grid_values,scoring = 'accuracy')\n",
    "    return grid_clf_acc"
   ]
  },
  {
   "cell_type": "code",
   "execution_count": 92,
   "metadata": {},
   "outputs": [
    {
     "name": "stdout",
     "output_type": "stream",
     "text": [
      "model score: 0.735\n"
     ]
    }
   ],
   "source": [
    "#El score obtenido con el modelo de regresión logistica\n",
    "X_train, X_test, y_train, y_test = train_test_split(X, y, test_size=0.3)\n",
    "categorical_features = ['SEXO','OBESIDAD','DIABETES','EPOC','ASMA','CARDIOVASCULAR','RENAL CRONICA',\"INMUNOSUPRESION\",\"HIPERTENSION\"]\n",
    "numeric_features=['EDAD']\n",
    "modelo=modelo(X_train, y_train,numeric_features,categorical_features)\n",
    "print(\"model score: %.3f\" % modelo.score(X_test, y_test))"
   ]
  },
  {
   "cell_type": "code",
   "execution_count": 93,
   "metadata": {},
   "outputs": [
    {
     "name": "stdout",
     "output_type": "stream",
     "text": [
      "[[ 0.58386188  0.24638579 -0.2466192  -0.06934639  0.06911297 -0.29555411\n",
      "   0.29532069 -0.14921216  0.14897875  0.05986339 -0.0600968  -0.14649964\n",
      "   0.14626622 -0.64366092  0.64342751 -0.20064783  0.20041441 -0.24642364\n",
      "   0.24619022]]\n",
      "[-0.65195593]\n"
     ]
    }
   ],
   "source": [
    "#Se imprimen los coeficientes asociados a los estimadores\n",
    "print(modelo.named_steps['classifier'].best_estimator_.coef_)\n",
    "print(modelo.named_steps['classifier'].best_estimator_.intercept_)"
   ]
  },
  {
   "cell_type": "code",
   "execution_count": 94,
   "metadata": {},
   "outputs": [
    {
     "name": "stdout",
     "output_type": "stream",
     "text": [
      "LogisticRegression(C=0.13848863713938717, max_iter=75, n_jobs=8, tol=1e-05)\n"
     ]
    }
   ],
   "source": [
    "print(modelo.named_steps['classifier'].best_estimator_)"
   ]
  },
  {
   "cell_type": "code",
   "execution_count": 95,
   "metadata": {},
   "outputs": [
    {
     "name": "stdout",
     "output_type": "stream",
     "text": [
      "[[1169  199]\n",
      " [ 358  374]]\n"
     ]
    }
   ],
   "source": [
    "#la matriz de confusion\n",
    "predict=modelo.predict(X_test)\n",
    "cm = metrics.confusion_matrix(y_test, predict)\n",
    "print(cm) "
   ]
  },
  {
   "cell_type": "code",
   "execution_count": 96,
   "metadata": {},
   "outputs": [
    {
     "data": {
      "text/plain": [
       "array([[0.76555337, 0.34729494],\n",
       "       [0.23444663, 0.65270506]])"
      ]
     },
     "execution_count": 96,
     "metadata": {},
     "output_type": "execute_result"
    },
    {
     "data": {
      "image/png": "[encoded data removed]",
      "text/plain": [
       "<Figure size 432x288 with 2 Axes>"
      ]
     },
     "metadata": {
      "needs_background": "light"
     },
     "output_type": "display_data"
    }
   ],
   "source": [
    "#la matriz de confusion en scikit learn normaalizado\n",
    "disp=metrics.plot_confusion_matrix(modelo, X_test, y_test,normalize=\"pred\",display_labels=np.array([\"NO\",\"SI\"]))\n",
    "disp.ax_.set_title(\"Matriz de Confusión\")\n",
    "disp.confusion_matrix"
   ]
  },
  {
   "cell_type": "code",
   "execution_count": 97,
   "metadata": {},
   "outputs": [],
   "source": [
    "#calculo de las probabilidades y el AUC\n",
    "probs = modelo.predict_proba(X_test)\n",
    "preds = probs[:,1]\n",
    "fpr, tpr, threshold = metrics.roc_curve(y_test, preds)\n",
    "roc_auc = metrics.auc(fpr, tpr)"
   ]
  },
  {
   "cell_type": "code",
   "execution_count": 98,
   "metadata": {},
   "outputs": [
    {
     "name": "stdout",
     "output_type": "stream",
     "text": [
      "Accuracy score:  0.7347619047619047\n",
      "Precision score:  0.6527050610820244\n",
      "Recall score:  0.5109289617486339\n",
      "F1 score:  0.5731800766283525\n"
     ]
    }
   ],
   "source": [
    "predictions=modelo.predict(X_test)\n",
    "print('Accuracy score: ', format(accuracy_score(y_test, predictions)))\n",
    "print('Precision score: ', format(precision_score(y_test, predictions)))\n",
    "print('Recall score: ', format(recall_score(y_test, predictions)))\n",
    "print('F1 score: ', format(f1_score(y_test, predictions)))"
   ]
  },
  {
   "cell_type": "code",
   "execution_count": 99,
   "metadata": {},
   "outputs": [
    {
     "data": {
      "text/plain": [
       "(array([168., 312., 351.,  38., 177., 156.,  15., 225.,  78.,  19., 216.,\n",
       "         74.,  26., 128.,  42.,  45.,   7.,  12.,  11.]),\n",
       " array([0.06238488, 0.10933081, 0.15627673, 0.20322266, 0.25016858,\n",
       "        0.29711451, 0.34406043, 0.39100636, 0.43795229, 0.48489821,\n",
       "        0.53184414, 0.57879006, 0.62573599, 0.67268192, 0.71962784,\n",
       "        0.76657377, 0.81351969, 0.86046562, 0.90741155, 0.95435747]),\n",
       " <a list of 19 Patch objects>)"
      ]
     },
     "execution_count": 99,
     "metadata": {},
     "output_type": "execute_result"
    },
    {
     "data": {
      "image/png": "[encoded data removed]",
      "text/plain": [
       "<Figure size 432x288 with 1 Axes>"
      ]
     },
     "metadata": {
      "needs_background": "light"
     },
     "output_type": "display_data"
    }
   ],
   "source": [
    "fig=plt.figure()\n",
    "axes=fig.add_axes([1,1,1.0,1.0])\n",
    "axes.set_title(\"Histograma de Probabilidades\")\n",
    "axes.set_xlim(0,1)\n",
    "axes.set_xlabel(\"Probabilidades\")\n",
    "axes.set_ylabel(\"frecuencia\")\n",
    "axes.hist(preds,bins=19,edgecolor=\"black\")"
   ]
  },
  {
   "cell_type": "code",
   "execution_count": 100,
   "metadata": {},
   "outputs": [
    {
     "data": {
      "text/plain": [
       "(0.0, 1.0)"
      ]
     },
     "execution_count": 100,
     "metadata": {},
     "output_type": "execute_result"
    },
    {
     "data": {
      "image/png": "[encoded data removed]",
      "text/plain": [
       "<Figure size 432x288 with 1 Axes>"
      ]
     },
     "metadata": {
      "needs_background": "light"
     },
     "output_type": "display_data"
    }
   ],
   "source": [
    "from sklearn.metrics import precision_recall_curve\n",
    "precision, recall, thresholds = precision_recall_curve(y_test, probs[:,1]) \n",
    "pr_auc = metrics.auc(recall, precision)\n",
    "plt.title(\"Precision-Recall vs Threshold\")\n",
    "plt.plot(thresholds, precision[: -1], \"b--\", label=\"Precision\")\n",
    "plt.plot(thresholds, recall[: -1], \"r--\", label=\"Recall\")\n",
    "plt.ylabel(\"Precision, Recall\")\n",
    "plt.xlabel(\"Threshold\")\n",
    "plt.legend(loc=\"lower left\")\n",
    "plt.ylim([0,1])"
   ]
  },
  {
   "cell_type": "code",
   "execution_count": 101,
   "metadata": {},
   "outputs": [
    {
     "data": {
      "image/png": "[encoded data removed]",
      "text/plain": [
       "<Figure size 432x288 with 1 Axes>"
      ]
     },
     "metadata": {
      "needs_background": "light"
     },
     "output_type": "display_data"
    }
   ],
   "source": [
    "plt.figure()\n",
    "plt.plot(fpr, tpr, label='GridSearchCV (area = %0.2f)' % roc_auc)\n",
    "plt.plot([0, 1], [0, 1],'r--')\n",
    "plt.xlim([0.0, 1.0])\n",
    "plt.ylim([0.0, 1.05])\n",
    "plt.xlabel('Tasa de falsos positivos')\n",
    "plt.ylabel('Tasa de verdaderos positivos')\n",
    "plt.title('curva ROC')\n",
    "plt.legend(loc=\"lower right\")\n",
    "plt.savefig('Log_ROC')\n",
    "plt.show()"
   ]
  },
  {
   "cell_type": "code",
   "execution_count": 102,
   "metadata": {},
   "outputs": [
    {
     "data": {
      "text/html": [
       "<div>\n",
       "<style scoped>\n",
       "    .dataframe tbody tr th:only-of-type {\n",
       "        vertical-align: middle;\n",
       "    }\n",
       "\n",
       "    .dataframe tbody tr th {\n",
       "        vertical-align: top;\n",
       "    }\n",
       "\n",
       "    .dataframe thead th {\n",
       "        text-align: right;\n",
       "    }\n",
       "</style>\n",
       "<table border=\"1\" class=\"dataframe\">\n",
       "  <thead>\n",
       "    <tr style=\"text-align: right;\">\n",
       "      <th></th>\n",
       "      <th>SEXO</th>\n",
       "      <th>OBESIDAD</th>\n",
       "      <th>DIABETES</th>\n",
       "      <th>EPOC</th>\n",
       "      <th>ASMA</th>\n",
       "      <th>CARDIOVASCULAR</th>\n",
       "      <th>RENAL CRONICA</th>\n",
       "      <th>INMUNOSUPRESION</th>\n",
       "      <th>HIPERTENSION</th>\n",
       "      <th>TIPO PACIENTE</th>\n",
       "      <th>EDAD</th>\n",
       "    </tr>\n",
       "  </thead>\n",
       "  <tbody>\n",
       "    <tr>\n",
       "      <th>0</th>\n",
       "      <td>MUJER</td>\n",
       "      <td>NO</td>\n",
       "      <td>NO</td>\n",
       "      <td>NO</td>\n",
       "      <td>NO</td>\n",
       "      <td>NO</td>\n",
       "      <td>NO</td>\n",
       "      <td>NO</td>\n",
       "      <td>NO</td>\n",
       "      <td>AMBULATORIO</td>\n",
       "      <td>51</td>\n",
       "    </tr>\n",
       "    <tr>\n",
       "      <th>1</th>\n",
       "      <td>MUJER</td>\n",
       "      <td>NO</td>\n",
       "      <td>NO</td>\n",
       "      <td>NO</td>\n",
       "      <td>NO</td>\n",
       "      <td>NO</td>\n",
       "      <td>NO</td>\n",
       "      <td>NO</td>\n",
       "      <td>NO</td>\n",
       "      <td>AMBULATORIO</td>\n",
       "      <td>37</td>\n",
       "    </tr>\n",
       "    <tr>\n",
       "      <th>2</th>\n",
       "      <td>HOMBRE</td>\n",
       "      <td>NO</td>\n",
       "      <td>NO</td>\n",
       "      <td>NO</td>\n",
       "      <td>NO</td>\n",
       "      <td>NO</td>\n",
       "      <td>NO</td>\n",
       "      <td>NO</td>\n",
       "      <td>NO</td>\n",
       "      <td>AMBULATORIO</td>\n",
       "      <td>18</td>\n",
       "    </tr>\n",
       "    <tr>\n",
       "      <th>3</th>\n",
       "      <td>HOMBRE</td>\n",
       "      <td>NO</td>\n",
       "      <td>NO</td>\n",
       "      <td>NO</td>\n",
       "      <td>NO</td>\n",
       "      <td>NO</td>\n",
       "      <td>NO</td>\n",
       "      <td>NO</td>\n",
       "      <td>NO</td>\n",
       "      <td>AMBULATORIO</td>\n",
       "      <td>40</td>\n",
       "    </tr>\n",
       "    <tr>\n",
       "      <th>4</th>\n",
       "      <td>MUJER</td>\n",
       "      <td>NO</td>\n",
       "      <td>SI</td>\n",
       "      <td>NO</td>\n",
       "      <td>NO</td>\n",
       "      <td>NO</td>\n",
       "      <td>SI</td>\n",
       "      <td>NO</td>\n",
       "      <td>SI</td>\n",
       "      <td>HOSPITALIZADO</td>\n",
       "      <td>78</td>\n",
       "    </tr>\n",
       "    <tr>\n",
       "      <th>...</th>\n",
       "      <td>...</td>\n",
       "      <td>...</td>\n",
       "      <td>...</td>\n",
       "      <td>...</td>\n",
       "      <td>...</td>\n",
       "      <td>...</td>\n",
       "      <td>...</td>\n",
       "      <td>...</td>\n",
       "      <td>...</td>\n",
       "      <td>...</td>\n",
       "      <td>...</td>\n",
       "    </tr>\n",
       "    <tr>\n",
       "      <th>7033</th>\n",
       "      <td>MUJER</td>\n",
       "      <td>SI</td>\n",
       "      <td>SI</td>\n",
       "      <td>NO</td>\n",
       "      <td>NO</td>\n",
       "      <td>NO</td>\n",
       "      <td>NO</td>\n",
       "      <td>NO</td>\n",
       "      <td>NO</td>\n",
       "      <td>AMBULATORIO</td>\n",
       "      <td>55</td>\n",
       "    </tr>\n",
       "    <tr>\n",
       "      <th>7034</th>\n",
       "      <td>MUJER</td>\n",
       "      <td>NO</td>\n",
       "      <td>SI</td>\n",
       "      <td>NO</td>\n",
       "      <td>NO</td>\n",
       "      <td>NO</td>\n",
       "      <td>NO</td>\n",
       "      <td>NO</td>\n",
       "      <td>NO</td>\n",
       "      <td>AMBULATORIO</td>\n",
       "      <td>33</td>\n",
       "    </tr>\n",
       "    <tr>\n",
       "      <th>7035</th>\n",
       "      <td>HOMBRE</td>\n",
       "      <td>NO</td>\n",
       "      <td>NO</td>\n",
       "      <td>NO</td>\n",
       "      <td>NO</td>\n",
       "      <td>NO</td>\n",
       "      <td>NO</td>\n",
       "      <td>NO</td>\n",
       "      <td>NO</td>\n",
       "      <td>AMBULATORIO</td>\n",
       "      <td>22</td>\n",
       "    </tr>\n",
       "    <tr>\n",
       "      <th>7036</th>\n",
       "      <td>HOMBRE</td>\n",
       "      <td>NO</td>\n",
       "      <td>SI</td>\n",
       "      <td>NO</td>\n",
       "      <td>NO</td>\n",
       "      <td>NO</td>\n",
       "      <td>NO</td>\n",
       "      <td>NO</td>\n",
       "      <td>NO</td>\n",
       "      <td>AMBULATORIO</td>\n",
       "      <td>35</td>\n",
       "    </tr>\n",
       "    <tr>\n",
       "      <th>7037</th>\n",
       "      <td>MUJER</td>\n",
       "      <td>NO</td>\n",
       "      <td>NO</td>\n",
       "      <td>NO</td>\n",
       "      <td>NO</td>\n",
       "      <td>NO</td>\n",
       "      <td>NO</td>\n",
       "      <td>NO</td>\n",
       "      <td>SI</td>\n",
       "      <td>HOSPITALIZADO</td>\n",
       "      <td>45</td>\n",
       "    </tr>\n",
       "  </tbody>\n",
       "</table>\n",
       "<p>7000 rows × 11 columns</p>\n",
       "</div>"
      ],
      "text/plain": [
       "        SEXO OBESIDAD DIABETES EPOC ASMA CARDIOVASCULAR RENAL CRONICA  \\\n",
       "0      MUJER       NO       NO   NO   NO             NO            NO   \n",
       "1      MUJER       NO       NO   NO   NO             NO            NO   \n",
       "2     HOMBRE       NO       NO   NO   NO             NO            NO   \n",
       "3     HOMBRE       NO       NO   NO   NO             NO            NO   \n",
       "4      MUJER       NO       SI   NO   NO             NO            SI   \n",
       "...      ...      ...      ...  ...  ...            ...           ...   \n",
       "7033   MUJER       SI       SI   NO   NO             NO            NO   \n",
       "7034   MUJER       NO       SI   NO   NO             NO            NO   \n",
       "7035  HOMBRE       NO       NO   NO   NO             NO            NO   \n",
       "7036  HOMBRE       NO       SI   NO   NO             NO            NO   \n",
       "7037   MUJER       NO       NO   NO   NO             NO            NO   \n",
       "\n",
       "     INMUNOSUPRESION HIPERTENSION  TIPO PACIENTE  EDAD  \n",
       "0                 NO           NO    AMBULATORIO    51  \n",
       "1                 NO           NO    AMBULATORIO    37  \n",
       "2                 NO           NO    AMBULATORIO    18  \n",
       "3                 NO           NO    AMBULATORIO    40  \n",
       "4                 NO           SI  HOSPITALIZADO    78  \n",
       "...              ...          ...            ...   ...  \n",
       "7033              NO           NO    AMBULATORIO    55  \n",
       "7034              NO           NO    AMBULATORIO    33  \n",
       "7035              NO           NO    AMBULATORIO    22  \n",
       "7036              NO           NO    AMBULATORIO    35  \n",
       "7037              NO           SI  HOSPITALIZADO    45  \n",
       "\n",
       "[7000 rows x 11 columns]"
      ]
     },
     "execution_count": 102,
     "metadata": {},
     "output_type": "execute_result"
    }
   ],
   "source": [
    "#APLICAMOS ONEHOTENCODER Y AJUSTAMOS EL KERNEL LINEAL PARA 5000 datos \n",
    "data"
   ]
  },
  {
   "cell_type": "code",
   "execution_count": 103,
   "metadata": {},
   "outputs": [],
   "source": [
    "#hacemos variables dummies a todas las variables categoricas\n",
    "sexo_dummy=pd.get_dummies(data[\"SEXO\"], prefix=\"SEXO\")\n",
    "obesidad_dummy=pd.get_dummies(data[\"OBESIDAD\"], prefix=\"OBESIDAD\")\n",
    "diabetes_dummy=pd.get_dummies(data[\"DIABETES\"], prefix=\"DIABETES\")\n",
    "epoc_dummy=pd.get_dummies(data[\"EPOC\"], prefix=\"EPOC\")\n",
    "asma_dummy=pd.get_dummies(data[\"ASMA\"], prefix=\"ASMA\")\n",
    "cardiovascular_dummy=pd.get_dummies(data[\"CARDIOVASCULAR\"], prefix=\"CARDIOVASCULAR\")\n",
    "renalcro_dummy=pd.get_dummies(data[\"RENAL CRONICA\"], prefix=\"RENAL CRONICA\")\n",
    "inmunosupresion_dummy=pd.get_dummies(data[\"INMUNOSUPRESION\"], prefix=\"INMUNOSUPRESION\")\n",
    "hipertension_dummy=pd.get_dummies(data[\"HIPERTENSION\"], prefix=\"HIPERTENSION\")\n",
    "tipopaciente_dummy=pd.get_dummies(data[\"TIPO PACIENTE\"], prefix=\"TIPO PACIENTE\")"
   ]
  },
  {
   "cell_type": "code",
   "execution_count": 104,
   "metadata": {},
   "outputs": [],
   "source": [
    "data=pd.concat([data,sexo_dummy ], axis=1)\n",
    "data=pd.concat([data,obesidad_dummy], axis=1)\n",
    "data=pd.concat([data,diabetes_dummy], axis=1)\n",
    "data=pd.concat([data,epoc_dummy], axis=1)\n",
    "data=pd.concat([data,asma_dummy], axis=1)\n",
    "data=pd.concat([data,cardiovascular_dummy], axis=1)\n",
    "data=pd.concat([data,renalcro_dummy], axis=1)\n",
    "data=pd.concat([data,inmunosupresion_dummy], axis=1)\n",
    "data=pd.concat([data,hipertension_dummy], axis=1)\n",
    "data=pd.concat([data,tipopaciente_dummy], axis=1)"
   ]
  },
  {
   "cell_type": "code",
   "execution_count": 105,
   "metadata": {},
   "outputs": [
    {
     "name": "stdout",
     "output_type": "stream",
     "text": [
      "<class 'pandas.core.frame.DataFrame'>\n",
      "Int64Index: 7000 entries, 0 to 7037\n",
      "Data columns (total 21 columns):\n",
      " #   Column                       Non-Null Count  Dtype\n",
      "---  ------                       --------------  -----\n",
      " 0   EDAD                         7000 non-null   int64\n",
      " 1   SEXO_HOMBRE                  7000 non-null   uint8\n",
      " 2   SEXO_MUJER                   7000 non-null   uint8\n",
      " 3   OBESIDAD_NO                  7000 non-null   uint8\n",
      " 4   OBESIDAD_SI                  7000 non-null   uint8\n",
      " 5   DIABETES_NO                  7000 non-null   uint8\n",
      " 6   DIABETES_SI                  7000 non-null   uint8\n",
      " 7   EPOC_NO                      7000 non-null   uint8\n",
      " 8   EPOC_SI                      7000 non-null   uint8\n",
      " 9   ASMA_NO                      7000 non-null   uint8\n",
      " 10  ASMA_SI                      7000 non-null   uint8\n",
      " 11  CARDIOVASCULAR_NO            7000 non-null   uint8\n",
      " 12  CARDIOVASCULAR_SI            7000 non-null   uint8\n",
      " 13  RENAL CRONICA_NO             7000 non-null   uint8\n",
      " 14  RENAL CRONICA_SI             7000 non-null   uint8\n",
      " 15  INMUNOSUPRESION_NO           7000 non-null   uint8\n",
      " 16  INMUNOSUPRESION_SI           7000 non-null   uint8\n",
      " 17  HIPERTENSION_NO              7000 non-null   uint8\n",
      " 18  HIPERTENSION_SI              7000 non-null   uint8\n",
      " 19  TIPO PACIENTE_AMBULATORIO    7000 non-null   uint8\n",
      " 20  TIPO PACIENTE_HOSPITALIZADO  7000 non-null   uint8\n",
      "dtypes: int64(1), uint8(20)\n",
      "memory usage: 246.1 KB\n"
     ]
    }
   ],
   "source": [
    "data_dummies=data.drop(data.columns[[0,1,2,3,4,5,6,7,8,9]], axis=1)\n",
    "data_dummies.info()"
   ]
  },
  {
   "cell_type": "code",
   "execution_count": 106,
   "metadata": {},
   "outputs": [
    {
     "name": "stdout",
     "output_type": "stream",
     "text": [
      "0.7360714285714286\n"
     ]
    }
   ],
   "source": [
    "#Variable target \n",
    "Y=pd.Categorical(data['TIPO PACIENTE']).codes\n",
    "X=data_dummies.iloc[:, [0,1,2,3,4,5,6,7,8,9,10,11,12,13,14,15,16,17,18]]\n",
    "\n",
    "train_X, test_X, train_Y, test_Y = train_test_split (X.values, Y, test_size = 0.2)\n",
    "modelo = svm.SVC(C = 1.0, kernel = 'linear')\n",
    "modelo.fit(train_X, train_Y)\n",
    "\n",
    "\n",
    "\n",
    "# Evaluamos su rendimiento predictivo en el conjunto de entrenamiento:\n",
    "predictions = modelo.predict(train_X)\n",
    "print((predictions==train_Y).mean())"
   ]
  },
  {
   "cell_type": "code",
   "execution_count": 107,
   "metadata": {},
   "outputs": [
    {
     "name": "stdout",
     "output_type": "stream",
     "text": [
      "0.7435714285714285\n"
     ]
    }
   ],
   "source": [
    "#Evaluamos su desempeño en el conjunto de prueba\n",
    "predictions = modelo.predict(test_X)\n",
    "print((predictions==test_Y).mean())"
   ]
  }
 ],
 "metadata": {
  "kernelspec": {
   "display_name": "Python 3",
   "language": "python",
   "name": "python3"
  },
  "language_info": {
   "codemirror_mode": {
    "name": "ipython",
    "version": 3
   },
   "file_extension": ".py",
   "mimetype": "text/x-python",
   "name": "python",
   "nbconvert_exporter": "python",
   "pygments_lexer": "ipython3",
   "version": "3.8.3"
  }
 },
 "nbformat": 4,
 "nbformat_minor": 4
}
